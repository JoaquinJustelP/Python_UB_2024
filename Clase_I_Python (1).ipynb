{
  "nbformat": 4,
  "nbformat_minor": 0,
  "metadata": {
    "colab": {
      "provenance": []
    },
    "kernelspec": {
      "name": "python3",
      "display_name": "Python 3"
    },
    "language_info": {
      "name": "python"
    }
  },
  "cells": [
    {
      "cell_type": "markdown",
      "metadata": {
        "id": "view-in-github"
      },
      "source": [
        "<a href=\"https://colab.research.google.com/github/JoaquinJustelP/Python_UB/blob/main/Clase_I_Python.ipynb\" target=\"_parent\"><img src=\"https://colab.research.google.com/assets/colab-badge.svg\" alt=\"Open In Colab\"/></a>"
      ]
    },
    {
      "cell_type": "markdown",
      "source": [
        "# Introducción a Python"
      ],
      "metadata": {
        "id": "s-lN9NOwsi45"
      }
    },
    {
      "cell_type": "markdown",
      "source": [
        "## ¿Qué es?\n",
        "\n",
        "Python es un lenguaje de programación de alto nivel, interpretado, dinámico y multiparadigma.\n",
        "\n",
        "Creado en 1991 pero con popularidad creciente en los últimos años gracias a su legibilidad, sintaxis clara y gran cantidad de bibiliotecas y frameworks disponibles.\n",
        "\n",
        "Se utiliza en una amplia variedad de aplicaciones como análisis de datos, inteligencia artificial, aprendizaje automático, desarrollo web y otras áreas de la informática.\n",
        "\n",
        "Documentación : https://docs.python.org/3/"
      ],
      "metadata": {
        "id": "Vwd7q-ous3E2"
      }
    },
    {
      "cell_type": "markdown",
      "source": [
        "### Dinamic Typing\n",
        "\n",
        "Python usa escritura dinámica, lo que significa que puede reasignar variables a diferentes tipos de datos. Esto hace que Python sea muy flexible en la asignación de tipos de datos; se diferencia de otros idiomas que se escriben estáticamente."
      ],
      "metadata": {
        "id": "hCMZyF0Tr2pE"
      }
    },
    {
      "cell_type": "code",
      "source": [
        "mis_perros = 2\n",
        "mis_perros"
      ],
      "metadata": {
        "id": "gqzsfdj0sDVy"
      },
      "execution_count": null,
      "outputs": []
    },
    {
      "cell_type": "code",
      "source": [
        "mis_perros=['Thor','Loki']\n",
        "mis_perros"
      ],
      "metadata": {
        "id": "0_grP68RsHzN"
      },
      "execution_count": null,
      "outputs": []
    },
    {
      "cell_type": "markdown",
      "source": [
        "**Pros y contras**\n",
        "\n",
        "Pros:\n",
        "\n",
        "\n",
        "*   Fácil de trabajar con ello\n",
        "*   Menor tiempo de desarrollo\n",
        "\n",
        "Contras:\n",
        "\n",
        "\n",
        "*   Pueden salir errores inesperados\n",
        "*   Hay que tener en cuenta el tipo (`type()`)\n",
        "\n",
        "\n",
        "\n"
      ],
      "metadata": {
        "id": "7wykKdwssdaa"
      }
    },
    {
      "cell_type": "markdown",
      "metadata": {
        "id": "N0sZKCLbYx3A"
      },
      "source": [
        "## Types\n",
        "\n",
        "Para saber el tipo de variable podemos usar la función `type()`\n"
      ]
    },
    {
      "cell_type": "code",
      "execution_count": null,
      "metadata": {
        "id": "qxMd3hVUYx3A"
      },
      "outputs": [],
      "source": [
        "type(1)"
      ]
    },
    {
      "cell_type": "code",
      "execution_count": null,
      "metadata": {
        "id": "VVa7vfofYx3B"
      },
      "outputs": [],
      "source": [
        "type(3.1415)"
      ]
    },
    {
      "cell_type": "code",
      "execution_count": null,
      "metadata": {
        "id": "XQnwywKSYx3B"
      },
      "outputs": [],
      "source": [
        "type('whatIam')"
      ]
    },
    {
      "cell_type": "code",
      "execution_count": null,
      "metadata": {
        "id": "vbtS2PYiYx3B"
      },
      "outputs": [],
      "source": [
        "var = 0\n",
        "type(var)"
      ]
    },
    {
      "cell_type": "markdown",
      "metadata": {
        "id": "HQe8_gRHO3iO"
      },
      "source": [
        "##  Assignment statements\n",
        "Una asignación crea una nueva variable y le da un valor:"
      ]
    },
    {
      "cell_type": "code",
      "execution_count": null,
      "metadata": {
        "id": "St6SmIeiO3iP"
      },
      "outputs": [],
      "source": [
        "a = 'hola'\n",
        "a2 = 'hola de nuevo'\n",
        "a_b = '...?'\n",
        "n = 7"
      ]
    },
    {
      "cell_type": "code",
      "execution_count": null,
      "metadata": {
        "id": "4XAH_tWMO3iP"
      },
      "outputs": [],
      "source": [
        "print(a_b)"
      ]
    },
    {
      "cell_type": "code",
      "source": [
        "a"
      ],
      "metadata": {
        "id": "miOZ2z7SciZo"
      },
      "execution_count": null,
      "outputs": []
    },
    {
      "cell_type": "markdown",
      "source": [
        "Hay ciertos nombres para asignar a las variables que se deben evitar porque podemos obtener errores."
      ],
      "metadata": {
        "id": "JjVWIi6ScjVH"
      }
    },
    {
      "cell_type": "code",
      "source": [
        "class= '¿Funcionará?'"
      ],
      "metadata": {
        "id": "9IUPjjIycpv4"
      },
      "execution_count": null,
      "outputs": []
    },
    {
      "cell_type": "markdown",
      "source": [
        "Resulta que `clase`es un \"keyword\" de Python. El intérprete usa palabras clave para reconocer la estructura del programa y no se pueden usar como nombres de variables. Algunos ejemplos de palabras clave de Python son:\n",
        "\n",
        "```python\n",
        "\n",
        "False    class      finally    is         return\n",
        "None     continue   for        lambda     try\n",
        "True     def        from       nonlocal   while\n",
        "and      del        global     not        with\n",
        "as       elif       if         or         yield\n",
        "assert   else       import     pass\n",
        "break    except     in         raise\n",
        "```"
      ],
      "metadata": {
        "id": "0ene8wHYct9Q"
      }
    },
    {
      "cell_type": "markdown",
      "source": [
        "## Operadores\n",
        "\n",
        "La siguiente tabla resume los operadores aritméticos en Python y cómo funcionan:\n",
        "\n",
        "+ Suma: **`+`**\n",
        "+ Resta: **`-`**\n",
        "+ Multiplicación: **`*`**\n",
        "+ Division (siempre devuelve `float`): **`/`**\n",
        "+ División de piso o \"floor division\" (siempre devuelve `int`): **`//`**\n",
        "+ Exponenciación: `**`\n",
        "+ Módulo (devuelve el resto de una división): **`%`**\n",
        "\n",
        "Cuando se usan con tipos numéricos, se comportan como operaciones matemáticas normales."
      ],
      "metadata": {
        "id": "x9_nG9_zdNCP"
      }
    },
    {
      "cell_type": "code",
      "source": [
        "2+2"
      ],
      "metadata": {
        "id": "swuTxtANfjfH"
      },
      "execution_count": null,
      "outputs": []
    },
    {
      "cell_type": "code",
      "source": [
        "4-3"
      ],
      "metadata": {
        "id": "LTOd6cI8fkym"
      },
      "execution_count": null,
      "outputs": []
    },
    {
      "cell_type": "code",
      "source": [
        "3*3"
      ],
      "metadata": {
        "id": "5Scm1MgPfl9W"
      },
      "execution_count": null,
      "outputs": []
    },
    {
      "cell_type": "code",
      "source": [
        "6/4"
      ],
      "metadata": {
        "id": "i4R6cWzyfm-O"
      },
      "execution_count": null,
      "outputs": []
    },
    {
      "cell_type": "code",
      "source": [
        "7//6"
      ],
      "metadata": {
        "id": "ZN1M507JfRj_"
      },
      "execution_count": null,
      "outputs": []
    },
    {
      "cell_type": "code",
      "source": [
        "2**2"
      ],
      "metadata": {
        "id": "JwdRhQ6PfqRv"
      },
      "execution_count": null,
      "outputs": []
    },
    {
      "cell_type": "code",
      "source": [
        "print(25 % 5)\n",
        "print(12 % 5)"
      ],
      "metadata": {
        "id": "LUC4_NjgfdF2"
      },
      "execution_count": null,
      "outputs": []
    },
    {
      "cell_type": "markdown",
      "source": [
        "### Operadores de incremento y decrecimiento\n",
        "\n",
        "Operadores de la forma `+=`, `-=`, `*=`...\n"
      ],
      "metadata": {
        "id": "sfyzcimNgT2I"
      }
    },
    {
      "cell_type": "markdown",
      "source": [
        "Teniendo una variable `a`, queremos sumarle 25. Podríamos hacerlo de la siguiente manera:\n",
        "\n",
        "\n"
      ],
      "metadata": {
        "id": "cnv5wsXHgczv"
      }
    },
    {
      "cell_type": "code",
      "source": [
        "a= 10\n",
        "a= a+25"
      ],
      "metadata": {
        "id": "DZZwFU_Nhtdm"
      },
      "execution_count": null,
      "outputs": []
    },
    {
      "cell_type": "markdown",
      "source": [
        "Sin embargo, podemos usar este tipo de operadores de la siguiente manera:"
      ],
      "metadata": {
        "id": "pMoMNeZPhwVt"
      }
    },
    {
      "cell_type": "code",
      "source": [
        "a= 10\n",
        "a+=25"
      ],
      "metadata": {
        "id": "i6lzXv2_hplu"
      },
      "execution_count": null,
      "outputs": []
    },
    {
      "cell_type": "markdown",
      "source": [
        "Es especialmente útil cuando queremos hacerlo de manera sucesiva ya que tiene la ventaja de que actualiza la variable en la memoria sin crear nuevos objetos."
      ],
      "metadata": {
        "id": "swtrI1D3hpSo"
      }
    },
    {
      "cell_type": "markdown",
      "source": [
        "## Operaciones de cadena (String operations)\n",
        "\n",
        "Con las cadenas no podemos realizar operaciones matemáticas, pero sí podemos usar ciertos operadores.\n",
        "\n",
        "Por ejemplo:\n",
        "\n",
        "`+` realiza la concatenación de cadenas.\n",
        "\n",
        "`*` repite la cadena.\n"
      ],
      "metadata": {
        "id": "P1LYT4S-iZTO"
      }
    },
    {
      "cell_type": "code",
      "source": [
        "'Buenas'+'tardes'"
      ],
      "metadata": {
        "id": "8ixAkk2Dlofd"
      },
      "execution_count": null,
      "outputs": []
    },
    {
      "cell_type": "code",
      "source": [
        "'Buenas '+'tardes'"
      ],
      "metadata": {
        "id": "IhISdNDMmnMM"
      },
      "execution_count": null,
      "outputs": []
    },
    {
      "cell_type": "code",
      "source": [
        "'Repíteme'*2"
      ],
      "metadata": {
        "id": "ZbXcw6lQluP1"
      },
      "execution_count": null,
      "outputs": []
    },
    {
      "cell_type": "markdown",
      "source": [
        "Usando `for` podemos acceder a todos los elementos de la cadena:"
      ],
      "metadata": {
        "id": "QH9op2nlpa50"
      }
    },
    {
      "cell_type": "code",
      "source": [
        "for letra in 'Buenas tardes':\n",
        "    print(letra)"
      ],
      "metadata": {
        "id": "gQCIQoSrpQy8"
      },
      "execution_count": null,
      "outputs": []
    },
    {
      "cell_type": "code",
      "source": [
        "s= 'Buenas tardes'\n",
        "len(s) # para conocer la longitud de la cadena"
      ],
      "metadata": {
        "id": "-Vyij3kgBacN"
      },
      "execution_count": null,
      "outputs": []
    },
    {
      "cell_type": "markdown",
      "source": [
        "Las cadenas tienen muchos métodos:"
      ],
      "metadata": {
        "id": "EDcM-WhuRSOl"
      }
    },
    {
      "cell_type": "code",
      "source": [
        "s.capitalize()"
      ],
      "metadata": {
        "id": "ev9wrpfzR4pq"
      },
      "execution_count": null,
      "outputs": []
    },
    {
      "cell_type": "code",
      "source": [
        "s.lower()"
      ],
      "metadata": {
        "id": "2YizK9ePR7cS"
      },
      "execution_count": null,
      "outputs": []
    },
    {
      "cell_type": "code",
      "source": [
        "s.count('a')"
      ],
      "metadata": {
        "id": "vndxNIAmf7l7"
      },
      "execution_count": null,
      "outputs": []
    },
    {
      "cell_type": "code",
      "source": [
        "s.index('t')"
      ],
      "metadata": {
        "id": "MI6NKpQZgC8-"
      },
      "execution_count": null,
      "outputs": []
    },
    {
      "cell_type": "code",
      "source": [
        "s.endswith('a todos')"
      ],
      "metadata": {
        "id": "UIRBciOaR9Y1"
      },
      "execution_count": null,
      "outputs": []
    },
    {
      "cell_type": "code",
      "source": [
        "string='p,k,f,n,f,n,f,c,n,w,e,?,k,y,w,n,p,w,o,e,w,v,d  '\n",
        "string"
      ],
      "metadata": {
        "colab": {
          "base_uri": "https://localhost:8080/",
          "height": 36
        },
        "id": "fVZ0yqQnhFVK",
        "outputId": "f6e08f1d-5bca-4f52-f59f-c6e386b84a04"
      },
      "execution_count": 11,
      "outputs": [
        {
          "output_type": "execute_result",
          "data": {
            "text/plain": [
              "'p,k,f,n,f,n,f,c,n,w,e,?,k,y,w,n,p,w,o,e,w,v,d  '"
            ],
            "application/vnd.google.colaboratory.intrinsic+json": {
              "type": "string"
            }
          },
          "metadata": {},
          "execution_count": 11
        }
      ]
    },
    {
      "cell_type": "markdown",
      "source": [
        "El método strip() elimina los espacios en blanco iniciales y finales de la cadena string. Esto es útil para eliminar caracteres no deseados, como espacios adicionales al principio o al final de una cadena.\n",
        "\n",
        "Después de aplicar strip(), el método split(',') divide la cadena en una lista de subcadenas utilizando la coma (,) como delimitador. Esto significa que la cadena se divide en partes cada vez que se encuentra una coma."
      ],
      "metadata": {
        "id": "fx2zmB9Kh-AA"
      }
    },
    {
      "cell_type": "code",
      "source": [
        "string_list=string.strip().split(',')\n",
        "print(string_list)"
      ],
      "metadata": {
        "colab": {
          "base_uri": "https://localhost:8080/"
        },
        "id": "-o5xMoSNhMvN",
        "outputId": "a19e81c3-b988-45f4-df9b-a5196e7b83db"
      },
      "execution_count": 13,
      "outputs": [
        {
          "output_type": "stream",
          "name": "stdout",
          "text": [
            "['p', 'k', 'f', 'n', 'f', 'n', 'f', 'c', 'n', 'w', 'e', '?', 'k', 'y', 'w', 'n', 'p', 'w', 'o', 'e', 'w', 'v', 'd']\n"
          ]
        }
      ]
    },
    {
      "cell_type": "markdown",
      "source": [
        "El método .join() es la inversa al método .split()"
      ],
      "metadata": {
        "id": "0hIY46Oxh9NE"
      }
    },
    {
      "cell_type": "code",
      "source": [
        "','.join(string_list)"
      ],
      "metadata": {
        "colab": {
          "base_uri": "https://localhost:8080/",
          "height": 36
        },
        "id": "cgGTl-LUhRjy",
        "outputId": "0c827f9d-b4a2-4a3e-bd78-2cb2bbb772de"
      },
      "execution_count": 3,
      "outputs": [
        {
          "output_type": "execute_result",
          "data": {
            "text/plain": [
              "'p,k,f,n,f,n,f,c,n,w,e,?,k,y,w,n,p,w,o,e,w,v,d'"
            ],
            "application/vnd.google.colaboratory.intrinsic+json": {
              "type": "string"
            }
          },
          "metadata": {},
          "execution_count": 3
        }
      ]
    },
    {
      "cell_type": "markdown",
      "source": [
        "### String formating\n",
        "\n",
        "- `f` strings: `f'sum result: {1+2}'`\n",
        "- `{}` y `.format()`\n",
        "- `%` placeholders. (_old way_)"
      ],
      "metadata": {
        "id": "3Lc7IgX_SJz9"
      }
    },
    {
      "cell_type": "code",
      "source": [
        "a = 12\n",
        "print(f'El resultado es: {a}')"
      ],
      "metadata": {
        "id": "x1iQu2riS-TX"
      },
      "execution_count": null,
      "outputs": []
    },
    {
      "cell_type": "code",
      "source": [
        "'Introduce algo aquí {}'.format('hola')"
      ],
      "metadata": {
        "id": "ajgIKOGrTB97"
      },
      "execution_count": null,
      "outputs": []
    },
    {
      "cell_type": "code",
      "source": [
        "'Introduce algo aquí %s' % '!'"
      ],
      "metadata": {
        "id": "xsh1KMM2TEt6"
      },
      "execution_count": null,
      "outputs": []
    },
    {
      "cell_type": "markdown",
      "source": [
        "# Functions\n",
        "\n",
        "Ya hemos usado alguna, `type()` es una función llamada `type` y el contenido del paréntesis son los **argumentos**.\n",
        "Esta función en concreta, como hemos visto, devuelve el tipo del argumento.\n",
        "\n",
        "\n",
        "\n",
        "Las funciones se pueden interpretar como en matemáticas:\n",
        "$$f(x) = \\mathtt{type}(x) $$\n",
        "$$ f: x \\longrightarrow y$$\n",
        "\n",
        "Donde $x$ es el argumento e $y$ el **valor devuelto** (en el caso de `type()`. $y$ es el tipo de $x$)."
      ],
      "metadata": {
        "id": "5unlKO_sXof9"
      }
    },
    {
      "cell_type": "code",
      "source": [
        "a= int(7.9898)\n",
        "a"
      ],
      "metadata": {
        "id": "kcxj-7IdYuSM"
      },
      "execution_count": null,
      "outputs": []
    },
    {
      "cell_type": "code",
      "source": [
        "str(3.141592)+ '... hasta el infinito'"
      ],
      "metadata": {
        "id": "IBhPZXjXY0b8"
      },
      "execution_count": null,
      "outputs": []
    },
    {
      "cell_type": "markdown",
      "source": [
        "## Funciones matemáticas\n",
        "Python tiene miles de funciones implementadas, pero no todas de ellas en Python base.\n",
        "\n",
        "Debemos usar `import` para **cargar** más funcionalidades como el módulo matemático `Math`."
      ],
      "metadata": {
        "id": "TeoySQ0_Y7v9"
      }
    },
    {
      "cell_type": "code",
      "source": [
        "import math"
      ],
      "metadata": {
        "id": "ZtwH0NozZM9E"
      },
      "execution_count": null,
      "outputs": []
    },
    {
      "cell_type": "markdown",
      "source": [
        "`math` es un módulo de la biblioteca estándar. Esto significa que está disponible dentro de la instalación de Python. Para usar todos los módulos estándar, no es necesario instalar nada más que Python.\n",
        "\n",
        "Solo necesitamos cargarlos con el comando `import` seguido del nombre del módulo.\n",
        "\n",
        "Para implementar la siguiente función:\n",
        "\n",
        "$$ f(x) = \\sqrt{x} $$\n",
        "\n",
        "Hacemos:"
      ],
      "metadata": {
        "id": "yvH7TW2FZRFs"
      }
    },
    {
      "cell_type": "code",
      "source": [
        "math.sqrt(10)"
      ],
      "metadata": {
        "id": "Icmmao6SZl4s"
      },
      "execution_count": null,
      "outputs": []
    },
    {
      "cell_type": "markdown",
      "source": [
        "Observa la notación `math.sqrt()`. Después de cargar el módulo matemático, se convierte en Objeto y podemos acceder a las funciones del objeto con el `.` notación"
      ],
      "metadata": {
        "id": "SVWVw1KAZla8"
      }
    },
    {
      "cell_type": "code",
      "source": [
        "math.e"
      ],
      "metadata": {
        "id": "rJ2zA1zCZ0ns"
      },
      "execution_count": null,
      "outputs": []
    },
    {
      "cell_type": "markdown",
      "source": [
        "## Funciones definidas por el usuario\n",
        "\n",
        "Para definir una nueva función utilizaremos `def` seguido del nombre de la función, parentésis `()` (donde entraran los argumentos si tiene) y `:`.\n",
        "\n",
        "Por ejemplo:\n"
      ],
      "metadata": {
        "id": "S8NNiRV4Z1nL"
      }
    },
    {
      "cell_type": "code",
      "source": [
        "def mi_funcion():\n",
        "    print('Función conseguida')"
      ],
      "metadata": {
        "id": "Rb3ndUCzaonD"
      },
      "execution_count": null,
      "outputs": []
    },
    {
      "cell_type": "markdown",
      "source": [
        "Ahora, cuando llamamos a nuestra función, se ejecutará la secuencia de declaraciones dentro de la función."
      ],
      "metadata": {
        "id": "fMxgx3_Jaw4s"
      }
    },
    {
      "cell_type": "code",
      "source": [
        "mi_funcion()"
      ],
      "metadata": {
        "id": "FiCsO3OybGY2"
      },
      "execution_count": null,
      "outputs": []
    },
    {
      "cell_type": "markdown",
      "source": [
        "Las funciones también pueden tomar parámetros como:\n",
        "\n",
        "$$ f(a, b) = a + b$$"
      ],
      "metadata": {
        "id": "Q5O0KNnkbJDs"
      }
    },
    {
      "cell_type": "code",
      "source": [
        "def suma(a, b):\n",
        "    resultado= a+b\n",
        "    return resultado\n",
        "\n",
        "suma(2, 3)"
      ],
      "metadata": {
        "id": "PQXosdLDbQez"
      },
      "execution_count": null,
      "outputs": []
    },
    {
      "cell_type": "markdown",
      "source": [
        "También es posible usar otras funciones como argumentos:"
      ],
      "metadata": {
        "id": "HHPAeyZybU5L"
      }
    },
    {
      "cell_type": "code",
      "source": [
        "suma(math.log(10), int(3.141592))"
      ],
      "metadata": {
        "id": "ZIm0-tGubaps"
      },
      "execution_count": null,
      "outputs": []
    },
    {
      "cell_type": "markdown",
      "source": [
        "Las variables dentro de las funciones son **locales**. Esto significa que solo existen dentro de la función:"
      ],
      "metadata": {
        "id": "w814Obu5bf0M"
      }
    },
    {
      "cell_type": "code",
      "source": [
        "def esconde():\n",
        "    secreto = 2+5\n",
        "    return secreto"
      ],
      "metadata": {
        "id": "pgitnvmCbg8e"
      },
      "execution_count": null,
      "outputs": []
    },
    {
      "cell_type": "code",
      "source": [
        "esconde()"
      ],
      "metadata": {
        "id": "Q1ItRJlTbpyU"
      },
      "execution_count": null,
      "outputs": []
    },
    {
      "cell_type": "code",
      "source": [
        "secreto"
      ],
      "metadata": {
        "id": "YGfkJeRXbr9F"
      },
      "execution_count": null,
      "outputs": []
    },
    {
      "cell_type": "markdown",
      "source": [
        "`return` puede manejar expresiones:"
      ],
      "metadata": {
        "id": "oN2QmhQLbpjE"
      }
    },
    {
      "cell_type": "code",
      "source": [
        "def suma(a, b):\n",
        "    return a + b"
      ],
      "metadata": {
        "id": "kLO97_tebzyU"
      },
      "execution_count": null,
      "outputs": []
    },
    {
      "cell_type": "code",
      "source": [
        "res = suma(3, 7)\n",
        "res"
      ],
      "metadata": {
        "id": "rR606r7zcHG0"
      },
      "execution_count": null,
      "outputs": []
    },
    {
      "cell_type": "markdown",
      "source": [
        "Las funciones de Python también pueden devolver otras funciones:"
      ],
      "metadata": {
        "id": "EG_NMgDDcbus"
      }
    },
    {
      "cell_type": "code",
      "source": [
        "def repite(s):\n",
        "    print(s)\n",
        "    print(s)"
      ],
      "metadata": {
        "id": "QM39Md9FcgfM"
      },
      "execution_count": null,
      "outputs": []
    },
    {
      "cell_type": "code",
      "source": [
        "repite('¡Hola!')"
      ],
      "metadata": {
        "id": "d1dLpHj1ckUM"
      },
      "execution_count": null,
      "outputs": []
    },
    {
      "cell_type": "markdown",
      "source": [
        "Las funciones también pueden manejar expresiones como parámetros."
      ],
      "metadata": {
        "id": "h6Win-Hzcs_D"
      }
    },
    {
      "cell_type": "code",
      "source": [
        "repite('¡Hola!' *6)"
      ],
      "metadata": {
        "id": "uUdWuo0XcwYk"
      },
      "execution_count": null,
      "outputs": []
    },
    {
      "cell_type": "code",
      "source": [
        "def repite2(parte1, parte2):\n",
        "    partes = parte1 + parte2\n",
        "    return repite(partes)"
      ],
      "metadata": {
        "id": "IYF3Laapc2dt"
      },
      "execution_count": null,
      "outputs": []
    },
    {
      "cell_type": "code",
      "source": [
        "repite2('Buenas','tardes')"
      ],
      "metadata": {
        "id": "tTlPZS-EdCxb"
      },
      "execution_count": null,
      "outputs": []
    },
    {
      "cell_type": "markdown",
      "source": [
        "Recuerda que `partes` es una variable que solo existe cuando la función se ejecuta y después desaparece."
      ],
      "metadata": {
        "id": "benlDj4LdrBF"
      }
    },
    {
      "cell_type": "markdown",
      "source": [
        "### Recursividad\n",
        "\n",
        "¡La recursividad es cuando las funciones se llaman a sí mismas adentro!\n",
        "\n",
        "Por ejemplo, el factorial de un número ($n!$) es:\n",
        "\n",
        "$$n! = 1 · 2 · 3\\dots(n-2)·(n-1)·n$$\n",
        "o\n",
        "$$n! = n(n-1)(n-2)\\dots2·1$$\n",
        "Que es lo mismo que:\n",
        "$$n! = n(n-1)!$$\n",
        "\n",
        "Por ejemplo:\n",
        "\n",
        "$$5! = 5·4·3·2·1$$\n",
        "Como $4! = 4·3·2·1$:\n",
        "$$5! = 5·4!$$"
      ],
      "metadata": {
        "id": "I62J2vryd0eu"
      }
    },
    {
      "cell_type": "code",
      "source": [
        "def factorial(n):\n",
        "    if n == 0:\n",
        "        return 1\n",
        "    else:\n",
        "        return n * factorial(n - 1)"
      ],
      "metadata": {
        "id": "mfOKwVNLemJM"
      },
      "execution_count": null,
      "outputs": []
    },
    {
      "cell_type": "code",
      "source": [
        "factorial(10)"
      ],
      "metadata": {
        "id": "iSn92Bi-eq80"
      },
      "execution_count": null,
      "outputs": []
    },
    {
      "cell_type": "markdown",
      "source": [
        "Otro ejemplo:"
      ],
      "metadata": {
        "id": "dqnmxI2qesWk"
      }
    },
    {
      "cell_type": "code",
      "source": [
        "def cuenta_regresiva(n):\n",
        "    if n <= 0:\n",
        "        print('Despegue!')\n",
        "    else:\n",
        "        print(n)\n",
        "        cuenta_regresiva(n-1)"
      ],
      "metadata": {
        "id": "BKueSSTPetr0"
      },
      "execution_count": null,
      "outputs": []
    },
    {
      "cell_type": "code",
      "source": [
        "cuenta_regresiva(10)"
      ],
      "metadata": {
        "id": "C4NNZJsZe7D0"
      },
      "execution_count": null,
      "outputs": []
    },
    {
      "cell_type": "markdown",
      "source": [
        "## Funciones lambda"
      ],
      "metadata": {
        "id": "5NIip0__fCWM"
      }
    },
    {
      "cell_type": "markdown",
      "source": [
        "Son funciones como las que hemos visto pero sin nombre."
      ],
      "metadata": {
        "id": "2uVsIQi-fFfs"
      }
    },
    {
      "cell_type": "code",
      "source": [
        "func = lambda x: x ** 2\n",
        "func"
      ],
      "metadata": {
        "id": "nJI_9VWDfEzs"
      },
      "execution_count": null,
      "outputs": []
    },
    {
      "cell_type": "code",
      "source": [
        "func(2)"
      ],
      "metadata": {
        "id": "LV4XwQ6LfN9c"
      },
      "execution_count": null,
      "outputs": []
    },
    {
      "cell_type": "code",
      "source": [
        "def func_with_name(x):\n",
        "    return x(2)\n",
        "func_with_name"
      ],
      "metadata": {
        "id": "XsBucXf9fPZ3"
      },
      "execution_count": null,
      "outputs": []
    },
    {
      "cell_type": "code",
      "source": [
        "func_with_name(lambda x: x*2)"
      ],
      "metadata": {
        "id": "HkzQm6i0fUxD"
      },
      "execution_count": null,
      "outputs": []
    },
    {
      "cell_type": "markdown",
      "source": [
        "Las funciones Lambda serán muy útiles cuando se trabaje con tablas y mappings en pandas"
      ],
      "metadata": {
        "id": "wzfSnZo2fmyE"
      }
    },
    {
      "cell_type": "markdown",
      "source": [
        "# Condicionales\n",
        "\n",
        "Los condicionales se utilizan para controlar el flujo de trabajo del programa. Por ejemplo, la sentencia `if`, En pseudolenguaje se puede entender como:\n",
        "\n",
        "```\n",
        "IF condition == TRUE then DO:\n",
        "    something\n",
        "```\n",
        "## Expresiones Booleanas\n",
        "Una expresión booleana es una expresión que es verdadera o falsa.\n",
        "\n",
        "Los siguientes ejemplos usan el operador `==`, que compara dos operandos y produce `True` si son iguales y `False` en caso contrario:\n",
        "\n"
      ],
      "metadata": {
        "id": "EZrrajrrfpik"
      }
    },
    {
      "cell_type": "code",
      "source": [
        "2==2"
      ],
      "metadata": {
        "id": "LuoM8Ck8gKK0"
      },
      "execution_count": null,
      "outputs": []
    },
    {
      "cell_type": "code",
      "source": [
        "2==182"
      ],
      "metadata": {
        "id": "wKlLKLGjgLbs"
      },
      "execution_count": null,
      "outputs": []
    },
    {
      "cell_type": "code",
      "source": [
        "'ayuno'=='ayuno'"
      ],
      "metadata": {
        "id": "EXm91U-WgNSE"
      },
      "execution_count": null,
      "outputs": []
    },
    {
      "cell_type": "code",
      "source": [
        "'ayuno'=='abstinencia'"
      ],
      "metadata": {
        "id": "h1KzxEHxgRDU"
      },
      "execution_count": null,
      "outputs": []
    },
    {
      "cell_type": "code",
      "source": [
        "type(True)"
      ],
      "metadata": {
        "id": "ovY1i3qjgThc"
      },
      "execution_count": null,
      "outputs": []
    },
    {
      "cell_type": "markdown",
      "source": [
        "El operador `==`es uno de los operadores relacionales. También podemos encontrar:"
      ],
      "metadata": {
        "id": "B7zR0fL7gWP0"
      }
    },
    {
      "cell_type": "code",
      "source": [
        "3 != 5 #diferente a"
      ],
      "metadata": {
        "id": "dnjqxp1mgczd"
      },
      "execution_count": null,
      "outputs": []
    },
    {
      "cell_type": "code",
      "source": [
        "5 > 3 #mayor que"
      ],
      "metadata": {
        "id": "MzeWOIGGgeuM"
      },
      "execution_count": null,
      "outputs": []
    },
    {
      "cell_type": "code",
      "source": [
        "3 < 5 #menor que"
      ],
      "metadata": {
        "id": "rrpf6YVHgfqt"
      },
      "execution_count": null,
      "outputs": []
    },
    {
      "cell_type": "code",
      "source": [
        "3.2 >= 3 #mayor o igual que"
      ],
      "metadata": {
        "id": "ICFJVLWAgjm7"
      },
      "execution_count": null,
      "outputs": []
    },
    {
      "cell_type": "code",
      "source": [
        "2.8 <= 3 #menor o igual que"
      ],
      "metadata": {
        "id": "P9lLXUZQgn5U"
      },
      "execution_count": null,
      "outputs": []
    },
    {
      "cell_type": "markdown",
      "source": [
        "CUIDADO: `=` es un operador de asignación y `==` es un operador relacional."
      ],
      "metadata": {
        "id": "p_NotXwIgsKd"
      }
    },
    {
      "cell_type": "markdown",
      "source": [
        "## Operadores lógicos\n",
        "\n",
        "```python\n",
        "and\n",
        "or\n",
        "not\n",
        "```\n",
        "Por ejemplo:"
      ],
      "metadata": {
        "id": "Ebd0k1org4sr"
      }
    },
    {
      "cell_type": "code",
      "source": [
        "True or True"
      ],
      "metadata": {
        "id": "vuz-nVG8hCdE"
      },
      "execution_count": null,
      "outputs": []
    },
    {
      "cell_type": "code",
      "source": [
        "True and False"
      ],
      "metadata": {
        "id": "Y9R5a1ixhDlM"
      },
      "execution_count": null,
      "outputs": []
    },
    {
      "cell_type": "code",
      "source": [
        "def test_and(x):\n",
        "    '''\n",
        "    Devuelve True si x está entre 0 y 10\n",
        "    '''\n",
        "    return x >= 0 and x <= 10"
      ],
      "metadata": {
        "id": "XJdQcUx2hJrl"
      },
      "execution_count": null,
      "outputs": []
    },
    {
      "cell_type": "code",
      "source": [
        "print(test_and(5))\n",
        "print(test_and(12))"
      ],
      "metadata": {
        "id": "aU0qBrdwhL0T"
      },
      "execution_count": null,
      "outputs": []
    },
    {
      "cell_type": "code",
      "source": [
        "def test_or(x):\n",
        "    '''\n",
        "    Devuelve True si x es divisible por 2 o 3, o ambas\n",
        "    '''\n",
        "    return x%2 == 0 or x%3 == 0"
      ],
      "metadata": {
        "id": "vEdAX5i1heEU"
      },
      "execution_count": null,
      "outputs": []
    },
    {
      "cell_type": "code",
      "source": [
        "print(test_or(17))\n",
        "print(test_or(12))"
      ],
      "metadata": {
        "id": "_ZUP95DUhk5j"
      },
      "execution_count": null,
      "outputs": []
    },
    {
      "cell_type": "markdown",
      "source": [
        "### Ejercicio\n",
        "\n",
        "Implementa el operador XOR usando `and`, `not` y `or` (operador lógico que es verdadero si y solo si sus argumentos difieren).\n",
        "\n",
        "Recuerda que los operadores lógicos funcionan con tipo bool, por lo que los parámetros deben ser operaciones lógicas."
      ],
      "metadata": {
        "id": "nL60JMjWirl0"
      }
    },
    {
      "cell_type": "code",
      "source": [
        "def xor(a, b):\n",
        "    return (a and not b) or (not a and b)"
      ],
      "metadata": {
        "id": "Llfa57eAi43s"
      },
      "execution_count": null,
      "outputs": []
    },
    {
      "cell_type": "code",
      "source": [
        "xor(2>1, 1>2)"
      ],
      "metadata": {
        "id": "gLI41L9Bi8g0"
      },
      "execution_count": null,
      "outputs": []
    },
    {
      "cell_type": "markdown",
      "source": [
        "### Pero, ¿qué es bool?\n",
        "\n",
        "En python, el tipo `bool` es una subclase de `int` que solo contiene 0 y 1. `False` se evalúa como 0 y `True` se evalúa como 1."
      ],
      "metadata": {
        "id": "ojN3laovjeFE"
      }
    },
    {
      "cell_type": "code",
      "source": [
        "False==0"
      ],
      "metadata": {
        "id": "1F2L276IjqaU"
      },
      "execution_count": null,
      "outputs": []
    },
    {
      "cell_type": "code",
      "source": [
        "True==1"
      ],
      "metadata": {
        "id": "qWPIMeEfjr60"
      },
      "execution_count": null,
      "outputs": []
    },
    {
      "cell_type": "code",
      "source": [
        "True+True+True"
      ],
      "metadata": {
        "id": "FQhcLko2jtP0"
      },
      "execution_count": null,
      "outputs": []
    },
    {
      "cell_type": "code",
      "source": [
        "True/ False"
      ],
      "metadata": {
        "id": "R-7aWWmaju80"
      },
      "execution_count": null,
      "outputs": []
    },
    {
      "cell_type": "code",
      "source": [
        "False/ True"
      ],
      "metadata": {
        "id": "bnw2jvTajwuc"
      },
      "execution_count": null,
      "outputs": []
    },
    {
      "cell_type": "markdown",
      "source": [
        "Pero Python no es muy estricto y cada número distinto de cero se interpreta como verdadero."
      ],
      "metadata": {
        "id": "UY9uq04hj450"
      }
    },
    {
      "cell_type": "code",
      "source": [
        "123 and True"
      ],
      "metadata": {
        "id": "zmWZby-Vj688"
      },
      "execution_count": null,
      "outputs": []
    },
    {
      "cell_type": "markdown",
      "source": [
        "## Condicional\n",
        "Para escribir programas útiles, casi siempre necesitamos la capacidad de verificar ciertas condiciones y cambiar el programa en consecuencia.\n",
        "Los condicionales nos otorgan esta habilidad.\n",
        "\n",
        "Si la condición seguida por `if` se cumple, se ejecuta el bloque que contiene.\n",
        "\n",
        "``` python\n",
        "if x < 0:  # <- condicion\n",
        "    # Cuerpo. Si es True, corre\n",
        "    # Haz algo con x\n",
        "```"
      ],
      "metadata": {
        "id": "SyxjidubkStk"
      }
    },
    {
      "cell_type": "code",
      "source": [
        "def if_exec(x):\n",
        "    if x > 0:\n",
        "        print('{n1} es positivo'.format(n1=x))"
      ],
      "metadata": {
        "id": "cU_pjnn1lRY0"
      },
      "execution_count": null,
      "outputs": []
    },
    {
      "cell_type": "code",
      "source": [
        "if_exec(3)"
      ],
      "metadata": {
        "id": "b8UKmGfylVIM"
      },
      "execution_count": null,
      "outputs": []
    },
    {
      "cell_type": "code",
      "source": [
        "if_exec(-1)"
      ],
      "metadata": {
        "id": "Pnp9sMKFlX1k"
      },
      "execution_count": null,
      "outputs": []
    },
    {
      "cell_type": "markdown",
      "source": [
        "Para este último caso, existe la posibilidad de añadir una ejecución alternativa en caso de que no se cumpla la primera."
      ],
      "metadata": {
        "id": "p1fzEcitldAM"
      }
    },
    {
      "cell_type": "code",
      "source": [
        "def if_exec(x):\n",
        "    if x > 0:\n",
        "        print('{n1} es positivo'.format(n1=x))\n",
        "    else:\n",
        "        print('{n1} no es positivo'.format(n1=x))"
      ],
      "metadata": {
        "id": "rP3ShG-ol1u8"
      },
      "execution_count": null,
      "outputs": []
    },
    {
      "cell_type": "code",
      "source": [
        "if_exec(-1)"
      ],
      "metadata": {
        "id": "tyDfstCmmE7c"
      },
      "execution_count": null,
      "outputs": []
    },
    {
      "cell_type": "code",
      "source": [
        "def es_par(x):\n",
        "    '''\n",
        "    Comprueba si un número es par o impar\n",
        "    '''\n",
        "    if x % 2 == 0:\n",
        "        print('x is par')\n",
        "    else:\n",
        "        print('x is impar')"
      ],
      "metadata": {
        "id": "ug_3HZiLlzJ8"
      },
      "execution_count": null,
      "outputs": []
    },
    {
      "cell_type": "code",
      "source": [
        "es_par(4)"
      ],
      "metadata": {
        "id": "R57vmlQCmayE"
      },
      "execution_count": null,
      "outputs": []
    },
    {
      "cell_type": "markdown",
      "source": [
        "A veces hay más de dos posibilidades y necesitamos más de dos ramas. Una forma de expresar un cálculo como ese es un **condicional encadenado**:"
      ],
      "metadata": {
        "id": "qBZgVkLsmdoz"
      }
    },
    {
      "cell_type": "code",
      "source": [
        "def entre_0_10(x):\n",
        "    if x < 0:\n",
        "        print('x es menor que 0!')\n",
        "    elif x > 10:\n",
        "        print('x es mayor que 10!')\n",
        "    else:\n",
        "        print('x está entre 0 y 10')"
      ],
      "metadata": {
        "id": "QEpmDW53nLQM"
      },
      "execution_count": null,
      "outputs": []
    },
    {
      "cell_type": "code",
      "source": [
        "entre_0_10(2)"
      ],
      "metadata": {
        "id": "A4ugUvGunWh7"
      },
      "execution_count": null,
      "outputs": []
    },
    {
      "cell_type": "code",
      "source": [
        "entre_0_10(15)"
      ],
      "metadata": {
        "id": "Zvkd6s9gnXQD"
      },
      "execution_count": null,
      "outputs": []
    },
    {
      "cell_type": "markdown",
      "source": [
        "Solo se ejecuta la primera condición `True`, es decir, que se cumple.\n",
        "\n",
        "Los condicionales también se pueden anidar dentro de otro:\n",
        "\n",
        "```python\n",
        "if x == y:\n",
        "    print('x and y son iguales')\n",
        "else:\n",
        "    if x < y:\n",
        "        print('x es menor que y')\n",
        "    else:\n",
        "        print('x es mayor que y')\n",
        "```"
      ],
      "metadata": {
        "id": "OBMDyXX1nay7"
      }
    },
    {
      "cell_type": "markdown",
      "source": [
        "A tener en cuenta:\n",
        "\n",
        "* Se utiliza dos puntos (':') al final de las líneas con if, else o elif.\n",
        "* No se requieren paréntesis para encerrar la condición booleana (se presume que incluye todo entre if o elif y los dos puntos).\n",
        "* Las declaraciones debajo de cada línea if, elif y else están todas indentadas."
      ],
      "metadata": {
        "id": "K-vOpoc8l808"
      }
    },
    {
      "cell_type": "markdown",
      "source": [
        "## *Ejercicio*\n",
        "\n",
        "+ Escribe una función que verifique si un número está entre 1-4 o 10-15\n"
      ],
      "metadata": {
        "id": "iGF2ZWCNn04j"
      }
    },
    {
      "cell_type": "markdown",
      "source": [
        "+   El último teorema de Fermat dice que no existen números enteros positivos $a$, $b$ y $c$ tales que:\n",
        "\n",
        "$$ a^n + b^n = c^n$$\n",
        "\n",
        "para cualquier valor de $n$ mayor de 2\n",
        "\n",
        "\n",
        "Escribe una función llamada `check_fermat` que tome cuatro parámetros `a, b, c y n` y verifique si se cumple el teorema de Fermat.\n",
        "\n",
        "Si n es mayor que 2 y\n",
        "\n",
        "$$a^n + b^n = c^n$$\n",
        "\n",
        "el programa debería devolver, \"¡Fermat estaba equivocado!\" De lo contrario, el programa debería imprimir \"No, eso no funciona\"."
      ],
      "metadata": {
        "id": "z-ajHvCnoVwM"
      }
    },
    {
      "cell_type": "code",
      "source": [
        "def check_fermat(a,b,c,n):\n",
        "    suma = a**n + b**n\n",
        "    if n>2 and (suma == c**n):\n",
        "        print('¡Fermat estaba equivocado!')\n",
        "    else:\n",
        "        print('Fermat tenía razón')"
      ],
      "metadata": {
        "id": "r9_wrjzanqz7"
      },
      "execution_count": null,
      "outputs": []
    },
    {
      "cell_type": "code",
      "source": [
        "check_fermat(4,2,3,3)"
      ],
      "metadata": {
        "id": "_iCQ93ILoUi0"
      },
      "execution_count": null,
      "outputs": []
    },
    {
      "cell_type": "markdown",
      "source": [
        "\n",
        "\n",
        "---\n",
        "\n"
      ],
      "metadata": {
        "id": "tPy4DEixqZqj"
      }
    },
    {
      "cell_type": "markdown",
      "source": [
        "\n",
        "# Colecciones y secuencias\n",
        "\n",
        "Las colecciones son contenedores con objetos en su interior. Esos contenedores pueden ser ordenados o desordenados.\n",
        "\n",
        "Ordenados:\n",
        "+ Lists, `[...]`\n",
        "+ Tuples, `(...)`\n",
        "+ strings, `'...'`\n",
        "\n",
        "Desordenados:\n",
        "+ Sets, `{...}`\n",
        "+ Dictionaries, como `set` pero con relaciones clave-valor, `{key: value, ...}`\n",
        "\n",
        "Podemos encontrar [otros](https://docs.python.org/2/library/collections.html).\n"
      ],
      "metadata": {
        "id": "MQehPmcsqZAs"
      }
    },
    {
      "cell_type": "markdown",
      "source": [
        "## Listas\n",
        "\n",
        "Las listas son uno de los tipos integrados más útiles de Python.\n",
        "\n",
        "Al igual que una cadena, una lista es una secuencia de valores. En una cadena, los valores son caracteres; en una lista, pueden ser de cualquier tipo. Los valores de una lista se denominan elementos o, a veces, \"items\".\n"
      ],
      "metadata": {
        "id": "qjtElqRVq_2r"
      }
    },
    {
      "cell_type": "code",
      "source": [
        "animales= ['perro','gato','loro','leon']"
      ],
      "metadata": {
        "id": "DeRC_LtjrO-8"
      },
      "execution_count": null,
      "outputs": []
    },
    {
      "cell_type": "code",
      "source": [
        "print('Es una {}, con {} elementos'.format(type(animales), len(animales)))"
      ],
      "metadata": {
        "id": "wyeVeKQZrZ6c"
      },
      "execution_count": null,
      "outputs": []
    },
    {
      "cell_type": "markdown",
      "source": [
        "Los elementos de una lista no tienen que ser del mismo tipo.\n",
        "\n",
        "¡Las listas también pueden tener listas anidadas!"
      ],
      "metadata": {
        "id": "G_rx_FOGrlvL"
      }
    },
    {
      "cell_type": "code",
      "source": [
        "['pato', 2.48, 4, [10, 20]]"
      ],
      "metadata": {
        "id": "B68LzG58rqVT"
      },
      "execution_count": null,
      "outputs": []
    },
    {
      "cell_type": "markdown",
      "source": [
        "También pueden estar vacías."
      ],
      "metadata": {
        "id": "bscyXKz1rsir"
      }
    },
    {
      "cell_type": "code",
      "source": [
        "empty_list = []\n",
        "print(empty_list, len(empty_list))"
      ],
      "metadata": {
        "id": "tvpma6xCrw9j"
      },
      "execution_count": null,
      "outputs": []
    },
    {
      "cell_type": "markdown",
      "source": [
        "### Las listas son mutables"
      ],
      "metadata": {
        "id": "tsr2CzfArywM"
      }
    },
    {
      "cell_type": "markdown",
      "source": [
        "La sintaxis para acceder a los elementos de una lista es la misma que para acceder a los caracteres de una cadena (el operador `[ ]`). La expresión entre corchetes especifica el índice. Importante recordar que el índice **comienza en 0**."
      ],
      "metadata": {
        "id": "fokuFQ-vr5gO"
      }
    },
    {
      "cell_type": "code",
      "source": [
        "animales[2]"
      ],
      "metadata": {
        "id": "VUllNSeGsJRN"
      },
      "execution_count": null,
      "outputs": []
    },
    {
      "cell_type": "markdown",
      "source": [
        "A diferencia de las cadenas, las listas son mutables. Cuando el operador `[ ]` aparece en el lado izquierdo de una asignación, identifica el elemento de la lista que se asignará."
      ],
      "metadata": {
        "id": "_O6cYWeAsf_E"
      }
    },
    {
      "cell_type": "code",
      "source": [
        "numbers = [23, 54, 123]\n",
        "numbers[1] = 0\n",
        "numbers"
      ],
      "metadata": {
        "id": "QaBE8mZ3soKt"
      },
      "execution_count": null,
      "outputs": []
    },
    {
      "cell_type": "markdown",
      "source": [
        "El índice de lista funciona así:\n",
        "\n",
        "+ Cualquier expresión entera se puede utilizar como índice.\n",
        "+ Si intentas leer o escribir un elemento que no existe, obtienes un `IndexError`.\n",
        "+ Si un índice tiene un **número entero negativo**, cuenta hacia atrás desde el final de la lista."
      ],
      "metadata": {
        "id": "pCjrN4m4ss_U"
      }
    },
    {
      "cell_type": "code",
      "source": [
        "numbers[5]"
      ],
      "metadata": {
        "id": "VQGzY1R5s8c8"
      },
      "execution_count": null,
      "outputs": []
    },
    {
      "cell_type": "code",
      "source": [
        "numbers[-1]  # coge el ultimo elemento"
      ],
      "metadata": {
        "id": "qutfEN9os8-s"
      },
      "execution_count": null,
      "outputs": []
    },
    {
      "cell_type": "markdown",
      "source": [
        "Las listas también admiten el operador `in`. Éste comprueba la pertenencia del elemento a la izquierda a la secuencia de la derecha."
      ],
      "metadata": {
        "id": "QCzaO4cHtDTH"
      }
    },
    {
      "cell_type": "code",
      "source": [
        "'perro' in animales"
      ],
      "metadata": {
        "id": "IqQKUSuks9zc"
      },
      "execution_count": null,
      "outputs": []
    },
    {
      "cell_type": "code",
      "source": [
        "'caballo' in animales"
      ],
      "metadata": {
        "id": "GiuTj-p2tSET"
      },
      "execution_count": null,
      "outputs": []
    },
    {
      "cell_type": "markdown",
      "source": [
        "### Iteraciones: for y range"
      ],
      "metadata": {
        "id": "s6cvs8a8tUZz"
      }
    },
    {
      "cell_type": "code",
      "source": [
        "# iterar sobre los elementos\n",
        "for animal in animales:\n",
        "    print(animal)"
      ],
      "metadata": {
        "id": "BPVFZhTRtZQb"
      },
      "execution_count": null,
      "outputs": []
    },
    {
      "cell_type": "code",
      "source": [
        "list(range(len(numbers)))"
      ],
      "metadata": {
        "id": "JO8YcIZ4tgrb"
      },
      "execution_count": null,
      "outputs": []
    },
    {
      "cell_type": "code",
      "source": [
        "# iterar sobre los indices\n",
        "for i in range(len(numbers)):\n",
        "    numbers[i]*= 2 # numbers[i]=numbers[i]*2\n",
        "numbers"
      ],
      "metadata": {
        "id": "u6mwvCmOti39"
      },
      "execution_count": null,
      "outputs": []
    },
    {
      "cell_type": "markdown",
      "source": [
        "¿Qué hace `range(len([...]))` ?\n",
        "\n",
        "`len()` devuelve el numero de elementos de la lista y `range()` crea un rango que va de 0 a n-1.\n",
        "\n",
        "De esta manera tenemos una manera de acceder a la lista por sus **indices**."
      ],
      "metadata": {
        "id": "lDxQpl7lvMVT"
      }
    },
    {
      "cell_type": "code",
      "source": [
        "for i in range(23):\n",
        "    numbers[i] = numbers[i] * 2"
      ],
      "metadata": {
        "id": "DcBI1_W9vhTz"
      },
      "execution_count": null,
      "outputs": []
    },
    {
      "cell_type": "markdown",
      "source": [
        "La forma más general de la función [**`range(start, stop[, step])`**](https://docs.python.org/3/library/functions.html#func-range) devuelve una lista de valores desde start hasta stop - 1 (inclusive), incrementando por step (que por defecto es 1), o desde start hasta stop + 1 (inclusive), decrementando por step si step es negativo."
      ],
      "metadata": {
        "id": "P3pR3q5-njkt"
      }
    },
    {
      "cell_type": "markdown",
      "source": [
        "### Operaciones"
      ],
      "metadata": {
        "id": "kTxbVmKavjSs"
      }
    },
    {
      "cell_type": "markdown",
      "source": [
        "El operador `+` concatena listas y `*` repite una lista dado un número de veces."
      ],
      "metadata": {
        "id": "WdSt-ro4vnYj"
      }
    },
    {
      "cell_type": "code",
      "source": [
        "a = [1,2,3]\n",
        "b = [10,20,30]\n",
        "c = a + b\n",
        "c"
      ],
      "metadata": {
        "id": "YbaJT_cZvxgz"
      },
      "execution_count": null,
      "outputs": []
    },
    {
      "cell_type": "code",
      "source": [
        "[1, 2, 3] * 3"
      ],
      "metadata": {
        "id": "KMkgoGA8vygk"
      },
      "execution_count": null,
      "outputs": []
    },
    {
      "cell_type": "markdown",
      "source": [
        "### Slicing\n",
        "\n",
        "El \"slicing\" es algo que se debe dominar, ya que permite acceder a los elementos y subconjuntos de la lista a través del operador `[ ]`.\n",
        "\n",
        "```\n",
        "list[start:end]\n",
        "```"
      ],
      "metadata": {
        "id": "ENNFk6dkv1Hu"
      }
    },
    {
      "cell_type": "code",
      "source": [
        "l = ['a', 'b', 'c', 'd', 'e', 'f', 'g', 'h', 'i']\n",
        "l"
      ],
      "metadata": {
        "id": "Q1Qwh_K5wISs"
      },
      "execution_count": null,
      "outputs": []
    },
    {
      "cell_type": "code",
      "source": [
        "l[2]"
      ],
      "metadata": {
        "id": "Kv46cmZ2wJQM"
      },
      "execution_count": null,
      "outputs": []
    },
    {
      "cell_type": "code",
      "source": [
        "l[0:2]"
      ],
      "metadata": {
        "id": "NLa-QjYhwJrb"
      },
      "execution_count": null,
      "outputs": []
    },
    {
      "cell_type": "code",
      "source": [
        "l[:2]"
      ],
      "metadata": {
        "id": "I2yrPkS6wKnU"
      },
      "execution_count": null,
      "outputs": []
    },
    {
      "cell_type": "code",
      "source": [
        "l[2:]"
      ],
      "metadata": {
        "id": "TKq6D_lpwLYT"
      },
      "execution_count": null,
      "outputs": []
    },
    {
      "cell_type": "code",
      "source": [
        "l[1:4]"
      ],
      "metadata": {
        "id": "FTZQJjorwM5b"
      },
      "execution_count": null,
      "outputs": []
    },
    {
      "cell_type": "code",
      "source": [
        "l[3:]"
      ],
      "metadata": {
        "id": "yzqi2d9wwOb7"
      },
      "execution_count": null,
      "outputs": []
    },
    {
      "cell_type": "code",
      "source": [
        "l[-1]"
      ],
      "metadata": {
        "id": "LTXZxbiBwPR3"
      },
      "execution_count": null,
      "outputs": []
    },
    {
      "cell_type": "code",
      "source": [
        "l[2:-2]"
      ],
      "metadata": {
        "id": "NFECycxwwQw8"
      },
      "execution_count": null,
      "outputs": []
    },
    {
      "cell_type": "markdown",
      "source": [
        "Las listas también soportan un \"slicing\" más complejo añadiendo una zancada (stride):\n",
        "\n",
        "```\n",
        "list[start:stop:stride]\n",
        "```"
      ],
      "metadata": {
        "id": "FCJK-M_LwVZM"
      }
    },
    {
      "cell_type": "code",
      "source": [
        "l[::2] #elementos en posiciones pares"
      ],
      "metadata": {
        "id": "JE3Wai0rwVJ8"
      },
      "execution_count": null,
      "outputs": []
    },
    {
      "cell_type": "code",
      "source": [
        "l[1::2] #elementos en posiciones impares"
      ],
      "metadata": {
        "id": "63zVGiEFwkP7"
      },
      "execution_count": null,
      "outputs": []
    },
    {
      "cell_type": "code",
      "source": [
        "l[::-1] #elementos en orden inverso"
      ],
      "metadata": {
        "id": "mxra4uD3wlIr"
      },
      "execution_count": null,
      "outputs": []
    },
    {
      "cell_type": "code",
      "source": [
        "l[::-2]"
      ],
      "metadata": {
        "id": "ix9DR0Hgwqb7"
      },
      "execution_count": null,
      "outputs": []
    },
    {
      "cell_type": "markdown",
      "source": [
        "### Métodos\n",
        "\n",
        "La clase `list` también tiene sus propios métodos.\n",
        "\n",
        "\n",
        "| **List method** | **Description**   |\n",
        "|------|------|\n",
        "|   *list*.append(*x*)  | Adds item x to the end of the list |\n",
        "|   *list*.extend(*L*)  | Adds all items in list *L* to the end of the list |\n",
        "|   *list*.insert(*i,x*)  | Inserts item *x* in position *i* |\n",
        "|   *list*.remove(*x*)  | Removes first item *x* from the list |\n",
        "|   *list*.pop(*i*)  | Removes item at index position *i* and returns it |\n",
        "|   *list*.index(*x*)  | Returns the index position in the list of first item *x* |\n",
        "|   *list*.count(*x*)  | Returns the number of times *x* appears in the list |\n",
        "|   *list*.sort()  | Sort all list items, in place |\n",
        "|   *list*.reverse()  | Reverse all list items, in place |\n",
        "\n"
      ],
      "metadata": {
        "id": "388HM4Elwr_7"
      }
    },
    {
      "cell_type": "markdown",
      "source": [
        "Por ejemplo, con `.append` añadimos un objeto en el argumento al final de la lista"
      ],
      "metadata": {
        "id": "jjnGh2MJw5wD"
      }
    },
    {
      "cell_type": "code",
      "source": [
        "l.append('j')\n",
        "l"
      ],
      "metadata": {
        "id": "c2B6fKyMxA80"
      },
      "execution_count": null,
      "outputs": []
    },
    {
      "cell_type": "markdown",
      "source": [
        "Con `pop` sacamos el un objeto de la lista (dado el índice). Por defecto es el último."
      ],
      "metadata": {
        "id": "FC2WX98xxE9c"
      }
    },
    {
      "cell_type": "code",
      "source": [
        "l.pop()"
      ],
      "metadata": {
        "id": "8y4kCSdTxCwE"
      },
      "execution_count": null,
      "outputs": []
    },
    {
      "cell_type": "code",
      "source": [
        "l"
      ],
      "metadata": {
        "id": "xDESQ6f-xEZj"
      },
      "execution_count": null,
      "outputs": []
    },
    {
      "cell_type": "markdown",
      "source": [
        "Si queremos añadir elementos:"
      ],
      "metadata": {
        "id": "w4vg-gDwxl0T"
      }
    },
    {
      "cell_type": "code",
      "source": [
        "l.append([1,2,3])\n",
        "l"
      ],
      "metadata": {
        "id": "W9EzNpmZxkno"
      },
      "execution_count": null,
      "outputs": []
    },
    {
      "cell_type": "code",
      "source": [
        "l.pop()"
      ],
      "metadata": {
        "id": "TlQgwNsZxlcj"
      },
      "execution_count": null,
      "outputs": []
    },
    {
      "cell_type": "code",
      "source": [
        "l.append(['a', 'b', 'c'])\n",
        "l"
      ],
      "metadata": {
        "id": "ifRdsnrLxgc0"
      },
      "execution_count": null,
      "outputs": []
    },
    {
      "cell_type": "code",
      "source": [
        "l = 'a b c d e f g h i'.split(' ')\n",
        "l.extend('ABCDEF')\n",
        "l"
      ],
      "metadata": {
        "id": "xPhqt2tfxU4r"
      },
      "execution_count": null,
      "outputs": []
    },
    {
      "cell_type": "markdown",
      "source": [
        "`append` es muy útil para crear nuevas listas a partir de un iterador:"
      ],
      "metadata": {
        "id": "DjSghUxzx4uz"
      }
    },
    {
      "cell_type": "code",
      "source": [
        "animales= ['perro','gato','loro','leon','ornitorrinco','muerciélago']\n",
        "new_list = []  # creamos una lista vacía\n",
        "\n",
        "for animal in animales:\n",
        "    if len(animal) > 6:\n",
        "        new_list.append(animal)"
      ],
      "metadata": {
        "id": "NE0-0Ta1x8Lj"
      },
      "execution_count": null,
      "outputs": []
    },
    {
      "cell_type": "code",
      "source": [
        "new_list"
      ],
      "metadata": {
        "id": "3fP3qgosyOT7"
      },
      "execution_count": null,
      "outputs": []
    },
    {
      "cell_type": "markdown",
      "source": [
        "### Mutabilidad\n",
        "\n",
        "Profundicemos en la mutabilidad de las listas, que quiere decir que pueden ser modificadas.\n",
        "\n",
        "Veamos el siguiente ejemplo:\n"
      ],
      "metadata": {
        "id": "bMaMuzKfju4F"
      }
    },
    {
      "cell_type": "code",
      "source": [
        "list_1 = [1, 2, 3, 5, 1]\n",
        "list_2 = list_1  # list_2 ahora referencia al mismo objeto que list_1\n",
        "\n",
        "print('list_1:             ', list_1)\n",
        "print('list_2:             ', list_2)\n",
        "print()\n",
        "\n",
        "list_1.remove(1)  # elimina la primera ocurrencia de 1 en list_1\n",
        "print('list_1.remove(1):   ', list_1)\n",
        "print()\n",
        "\n",
        "list_1.pop(2)  # elimina el elemento en la posición 2\n",
        "print('list_1.pop(2):      ', list_1)\n",
        "print()\n",
        "\n",
        "list_1.append(6)  # añade 6 al final de list_1\n",
        "print('list_1.append(6):   ', list_1)\n",
        "print()\n",
        "\n",
        "list_1.insert(0, 7)  # añade 7 al principio de list_1 (antes del elemento en la posición 0)\n",
        "print('list_1.insert(0, 7):', list_1)\n",
        "print()\n",
        "\n",
        "list_1.sort()  # ordena los elementos de list_1\n",
        "print('list_1.sort():      ', list_1)\n",
        "print()\n",
        "\n",
        "list_1.reverse()  # invierte el orden de los elementos en list_1\n",
        "print('list_1.reverse():   ', list_1)\n"
      ],
      "metadata": {
        "id": "amaNpEr4kBXv"
      },
      "execution_count": null,
      "outputs": []
    },
    {
      "cell_type": "markdown",
      "source": [
        "\n",
        "Cuando tienes más de un nombre (por ejemplo, una variable) asociado al mismo objeto mutable en Python, cualquier modificación realizada en ese objeto se reflejará en todos los nombres que están vinculados a él. Esto sucede porque todos esos nombres apuntan a la misma ubicación de memoria donde reside el objeto mutable."
      ],
      "metadata": {
        "id": "V8tcze5YkZ2_"
      }
    },
    {
      "cell_type": "code",
      "source": [
        "print('list_1:          ', list_1)\n",
        "print('list_2:          ', list_2)"
      ],
      "metadata": {
        "id": "WqcBjFgKkal8"
      },
      "execution_count": null,
      "outputs": []
    },
    {
      "cell_type": "markdown",
      "source": [
        "Si queremos que los cambios en una lista no afecten a la otra, podemos crear una de ellas como una copia.\n",
        "\n",
        "Por ejemplo:\n"
      ],
      "metadata": {
        "id": "6L2TQyvCkc7M"
      }
    },
    {
      "cell_type": "code",
      "source": [
        "list_1 = [1, 2, 3, 5, 1]\n",
        "list_2 = list_1[:]  # list_1[:] devuelve una copia de todo el contenido de list_1\n",
        "\n",
        "print('list_1:             ', list_1)\n",
        "print('list_2:             ', list_2)\n",
        "print()\n",
        "\n",
        "list_1.remove(1)  # elimina solo la primera ocurrencia de 1 en list_1\n",
        "print('list_1.remove(1):   ', list_1)\n",
        "print()\n",
        "\n",
        "print('list_1:          ', list_1)\n",
        "print('list_2:          ', list_2)\n"
      ],
      "metadata": {
        "id": "pgIzdk_hkmgj"
      },
      "execution_count": null,
      "outputs": []
    },
    {
      "cell_type": "markdown",
      "source": [
        "## Tuplas\n",
        "\n",
        "Las tuplas son secuencias inmutables. Se designan con `( )`.\n",
        "+ Las tuplas tienen orden\n",
        "+ Las tuplas no admiten la asignación"
      ],
      "metadata": {
        "id": "UudBzzCTyQH7"
      }
    },
    {
      "cell_type": "code",
      "source": [
        "t = (1, 23, 3, 1)"
      ],
      "metadata": {
        "id": "r3zS-uudyajj"
      },
      "execution_count": null,
      "outputs": []
    },
    {
      "cell_type": "code",
      "source": [
        "t[0]=2"
      ],
      "metadata": {
        "id": "tmTYtxKpygbL"
      },
      "execution_count": null,
      "outputs": []
    },
    {
      "cell_type": "markdown",
      "source": [
        "### Métodos\n",
        "\n",
        "| **Tuple method** | **Description**   |\n",
        "|------|------|\n",
        "|   *tuple*.count(value)  | return number of occurrences of value |\n",
        "|   *tuple*.index(value, start, stop)  | return first index of value |\n",
        "\n",
        " start y stop son los indices del subset que se quiere comprobar."
      ],
      "metadata": {
        "id": "By5PZ6Ecyigc"
      }
    },
    {
      "cell_type": "code",
      "source": [
        "t"
      ],
      "metadata": {
        "id": "ly4F0gHLyuG7"
      },
      "execution_count": null,
      "outputs": []
    },
    {
      "cell_type": "code",
      "source": [
        "t.count(1)"
      ],
      "metadata": {
        "id": "svtKSVY1yulr"
      },
      "execution_count": null,
      "outputs": []
    },
    {
      "cell_type": "code",
      "source": [
        "t.index(1,1,4)"
      ],
      "metadata": {
        "id": "RLNMKFtUyzBL"
      },
      "execution_count": null,
      "outputs": []
    },
    {
      "cell_type": "markdown",
      "source": [
        "Es importante tener en cuenta que los métodos que modifican listas (por ejemplo, append(), remove()) no están definidos para secuencias inmutables como las tuplas o las cadenas de texto. Intentar usar uno de estos métodos de modificación en una secuencia inmutable resultará en una excepción AttributeError.\n",
        "\n",
        "Esto se debe a que, como comentábamos, las secuencias inmutables como las tuplas y las cadenas de texto en Python no permiten cambios directos en sus elementos una vez que han sido creados."
      ],
      "metadata": {
        "id": "mKeYOElrlFyF"
      }
    },
    {
      "cell_type": "markdown",
      "source": [
        "## Listas vs tuplas\n",
        "\n",
        "Las tuplas son para describir múltiples propiedades de una cosa que no cambia. Las listas se pueden usar para almacenar colecciones de datos sobre objetos completamente dispares.\n",
        "\n",
        "Dado que las tuplas son inmutables, la estructura de datos subyacente es más simple y, por lo tanto, más liviana."
      ],
      "metadata": {
        "id": "hjLO3c6EzLlk"
      }
    },
    {
      "cell_type": "code",
      "source": [
        "t = (1,2,['a', 'b', 'c'])\n",
        "t"
      ],
      "metadata": {
        "id": "fbecWtgTzk87"
      },
      "execution_count": null,
      "outputs": []
    },
    {
      "cell_type": "code",
      "source": [
        "t[2]"
      ],
      "metadata": {
        "id": "UptYqD3iznT1"
      },
      "execution_count": null,
      "outputs": []
    },
    {
      "cell_type": "code",
      "source": [
        "t[2].append('d')"
      ],
      "metadata": {
        "id": "52OJsrhhzmHT"
      },
      "execution_count": null,
      "outputs": []
    },
    {
      "cell_type": "code",
      "source": [
        "t[2]"
      ],
      "metadata": {
        "id": "sv9apGxFzpET"
      },
      "execution_count": null,
      "outputs": []
    },
    {
      "cell_type": "markdown",
      "source": [
        "Los elementos de tuplas y listas son solo arrays de \"direcciones\" a otros objetos de python. Entonces, el tercer elemento de nuestra tupla `t` es solo un puntero al objeto python `['a', 'b', 'c']`. Siempre que el objeto sea el mismo, manipular esos objetos en su lugar no generará errores."
      ],
      "metadata": {
        "id": "5qt5BI5Hzzoj"
      }
    },
    {
      "cell_type": "markdown",
      "source": [
        "## Sets o conjuntos\n",
        "\n",
        "Los conjuntos se crean con llaves `{ }` o la función `set()`.\n",
        "\n",
        "Un set es una colección desordenada sin elementos duplicados."
      ],
      "metadata": {
        "id": "Qhn8R7zYz_hD"
      }
    },
    {
      "cell_type": "code",
      "source": [
        "mochila = {'pc', 'carpeta', 'lapiz', 'cargador', 'hojas'}"
      ],
      "metadata": {
        "id": "XxxiUHWz0gLz"
      },
      "execution_count": null,
      "outputs": []
    },
    {
      "cell_type": "code",
      "source": [
        "print(mochila)"
      ],
      "metadata": {
        "id": "EU6K4i_40n4L"
      },
      "execution_count": null,
      "outputs": []
    },
    {
      "cell_type": "code",
      "source": [
        "'carpeta' in mochila  # testeamos si carpeta está en mochila"
      ],
      "metadata": {
        "id": "4PQxGHn40ogj"
      },
      "execution_count": null,
      "outputs": []
    },
    {
      "cell_type": "code",
      "source": [
        "mochila2= set(['carpeta','lapiz','hojas'])"
      ],
      "metadata": {
        "id": "LWUJ4Q2X0wDK"
      },
      "execution_count": null,
      "outputs": []
    },
    {
      "cell_type": "code",
      "source": [
        "mochila-mochila2 #objetos en mochila pero no en mochila 2"
      ],
      "metadata": {
        "id": "i3esrjpp06C7"
      },
      "execution_count": null,
      "outputs": []
    },
    {
      "cell_type": "code",
      "source": [
        "mochila2-mochila"
      ],
      "metadata": {
        "id": "0yD8htEQ0-67"
      },
      "execution_count": null,
      "outputs": []
    },
    {
      "cell_type": "code",
      "source": [
        "mochila | mochila2 #en uno o en otro"
      ],
      "metadata": {
        "id": "sJ3N3mCk1AJ8"
      },
      "execution_count": null,
      "outputs": []
    },
    {
      "cell_type": "code",
      "source": [
        "mochila & mochila2 #en ambos"
      ],
      "metadata": {
        "colab": {
          "base_uri": "https://localhost:8080/"
        },
        "id": "yaIX5JFx1EMU",
        "outputId": "0aa48b42-1dc7-4f56-fa86-a251828b5494"
      },
      "execution_count": null,
      "outputs": [
        {
          "output_type": "execute_result",
          "data": {
            "text/plain": [
              "{'carpeta', 'hojas', 'lapiz'}"
            ]
          },
          "metadata": {},
          "execution_count": 72
        }
      ]
    },
    {
      "cell_type": "code",
      "source": [
        "mochila ^ mochila2 #elementos tanto en una o en otra, pero no en ambas"
      ],
      "metadata": {
        "id": "S2_FeRHw1J-T"
      },
      "execution_count": null,
      "outputs": []
    },
    {
      "cell_type": "markdown",
      "source": [
        "## Diccionarios\n",
        "\n",
        "Otro tipo de datos útil integrado en Python es el diccionario.\n",
        "A diferencia de las secuencias, que están indexadas por un rango de números, los diccionarios están indexados por claves, que pueden ser de cualquier tipo inmutable; cadenas y números siempre pueden ser claves. Los valores pueden ser cualquier cosa.\n",
        "\n",
        "Es mejor pensar en un diccionario como un conjunto desordenado de claves con valores asociados, con el requisito de que las claves sean únicas."
      ],
      "metadata": {
        "id": "Zt8-ofI90f0X"
      }
    },
    {
      "cell_type": "code",
      "source": [
        "# añadimos los precios a las mochilas\n",
        "d = {'pc':1000, 'carpeta':10, 'lapiz':0.6, 'cargador':25, 'hojas':5}\n",
        "d"
      ],
      "metadata": {
        "colab": {
          "base_uri": "https://localhost:8080/"
        },
        "id": "mYv_xVUg2qK7",
        "outputId": "93e563a4-89ad-4eba-c06d-6a084907d141"
      },
      "execution_count": null,
      "outputs": [
        {
          "output_type": "execute_result",
          "data": {
            "text/plain": [
              "{'pc': 1000, 'carpeta': 10, 'lapiz': 0.6, 'cargador': 25, 'hojas': 5}"
            ]
          },
          "metadata": {},
          "execution_count": 73
        }
      ]
    },
    {
      "cell_type": "code",
      "source": [
        "d['pc']"
      ],
      "metadata": {
        "id": "2qzohWwd3ARL"
      },
      "execution_count": null,
      "outputs": []
    },
    {
      "cell_type": "code",
      "source": [
        "d.keys()  # devuelve una lista de las claves o keys"
      ],
      "metadata": {
        "colab": {
          "base_uri": "https://localhost:8080/"
        },
        "id": "nWGHEWFv3HLs",
        "outputId": "95a50800-2352-488f-a1b3-5de90305a936"
      },
      "execution_count": null,
      "outputs": [
        {
          "output_type": "execute_result",
          "data": {
            "text/plain": [
              "dict_keys(['pc', 'carpeta', 'lapiz', 'cargador', 'hojas'])"
            ]
          },
          "metadata": {},
          "execution_count": 74
        }
      ]
    },
    {
      "cell_type": "code",
      "source": [
        "d.values()  # devuelve una lista con los valores"
      ],
      "metadata": {
        "id": "VEAAo14C3IBL"
      },
      "execution_count": null,
      "outputs": []
    },
    {
      "cell_type": "code",
      "source": [
        "d.items()  # devuelve una lista con los pares clave-valor (tuples)"
      ],
      "metadata": {
        "colab": {
          "base_uri": "https://localhost:8080/"
        },
        "id": "pRWjeyUJ3I2T",
        "outputId": "0d94cedd-47da-4666-b276-a57539208836"
      },
      "execution_count": null,
      "outputs": [
        {
          "output_type": "execute_result",
          "data": {
            "text/plain": [
              "dict_items([('pc', 1000), ('carpeta', 10), ('lapiz', 0.6), ('cargador', 25), ('hojas', 5)])"
            ]
          },
          "metadata": {},
          "execution_count": 75
        }
      ]
    },
    {
      "cell_type": "code",
      "source": [
        "d['pc']"
      ],
      "metadata": {
        "id": "sKr01koR3Jsr"
      },
      "execution_count": null,
      "outputs": []
    },
    {
      "cell_type": "code",
      "source": [
        "d['pc'] = 1500"
      ],
      "metadata": {
        "id": "jrEUnM5H3Kez"
      },
      "execution_count": null,
      "outputs": []
    },
    {
      "cell_type": "code",
      "source": [
        "d.items()"
      ],
      "metadata": {
        "colab": {
          "base_uri": "https://localhost:8080/"
        },
        "id": "_hAeszlI3LIr",
        "outputId": "ae5c58d4-1394-47ac-cca8-d1dfe2e4b772"
      },
      "execution_count": null,
      "outputs": [
        {
          "output_type": "execute_result",
          "data": {
            "text/plain": [
              "dict_items([('pc', 1500), ('carpeta', 10), ('lapiz', 0.6), ('cargador', 25), ('hojas', 5)])"
            ]
          },
          "metadata": {},
          "execution_count": 79
        }
      ]
    },
    {
      "cell_type": "code",
      "source": [
        "tup = list(d.items())[0]"
      ],
      "metadata": {
        "id": "p50uE4nv3L9N"
      },
      "execution_count": null,
      "outputs": []
    },
    {
      "cell_type": "code",
      "source": [
        "tup"
      ],
      "metadata": {
        "colab": {
          "base_uri": "https://localhost:8080/"
        },
        "id": "a_wRbukA3uUL",
        "outputId": "52697438-1107-4159-84a1-3f54c74cb015"
      },
      "execution_count": null,
      "outputs": [
        {
          "output_type": "execute_result",
          "data": {
            "text/plain": [
              "('pc', 1500)"
            ]
          },
          "metadata": {},
          "execution_count": 83
        }
      ]
    },
    {
      "cell_type": "code",
      "source": [
        "func = lambda i: i[0]"
      ],
      "metadata": {
        "id": "7hheiRb_3NNT"
      },
      "execution_count": null,
      "outputs": []
    },
    {
      "cell_type": "code",
      "source": [
        "func"
      ],
      "metadata": {
        "colab": {
          "base_uri": "https://localhost:8080/"
        },
        "id": "lFY-pbWV3v1L",
        "outputId": "4690c32b-e6f5-4fb3-8a6f-09b4db4aea71"
      },
      "execution_count": null,
      "outputs": [
        {
          "output_type": "execute_result",
          "data": {
            "text/plain": [
              "<function __main__.<lambda>(i)>"
            ]
          },
          "metadata": {},
          "execution_count": 84
        }
      ]
    },
    {
      "cell_type": "code",
      "source": [
        "func(tup)"
      ],
      "metadata": {
        "colab": {
          "base_uri": "https://localhost:8080/",
          "height": 36
        },
        "id": "vQbtV79o3OLD",
        "outputId": "d00e72e4-36a2-4c19-ed60-3d49ce7af040"
      },
      "execution_count": null,
      "outputs": [
        {
          "output_type": "execute_result",
          "data": {
            "text/plain": [
              "'pc'"
            ],
            "application/vnd.google.colaboratory.intrinsic+json": {
              "type": "string"
            }
          },
          "metadata": {},
          "execution_count": 82
        }
      ]
    },
    {
      "cell_type": "markdown",
      "source": [
        "Esas son las estructuras de datos predeterminadas para contenedores y secuencias. Pero Python tiene algunos más en la biblioteca estándar, en las colecciones de módulos. [¡Ve y echa un vistazo!](https://docs.python.org/3.6/library/collections.html?highlight=collections#module-collections)"
      ],
      "metadata": {
        "id": "PGaxmjeS4KAE"
      }
    },
    {
      "cell_type": "markdown",
      "source": [
        "## List Comprehensions\n",
        "\n",
        "Hemos visto las estructuras de datos básicas y una de las características más importantes: la iteración con bucles for. La declaración for de Python itera sobre los elementos de cualquier secuencia. Como hemos visto antes:"
      ],
      "metadata": {
        "id": "P_M7yEvz44CT"
      }
    },
    {
      "cell_type": "code",
      "source": [
        "mochila = ['pc', 'carpeta', 'lapiz', 'cargador', 'hojas']"
      ],
      "metadata": {
        "id": "En5hczTe4R1z"
      },
      "execution_count": null,
      "outputs": []
    },
    {
      "cell_type": "code",
      "source": [
        "# loop for para filtrar la lista dada una condición\n",
        "\n",
        "mochila_con_o= [] #iniciamos una lista vacía\n",
        "for objeto in mochila:\n",
        "  if 'o' in objeto:\n",
        "    mochila_con_o.append(objeto)"
      ],
      "metadata": {
        "id": "TT387ZoM5Je7"
      },
      "execution_count": null,
      "outputs": []
    },
    {
      "cell_type": "code",
      "source": [
        "mochila_con_o"
      ],
      "metadata": {
        "id": "I78FGyQd5ouL"
      },
      "execution_count": null,
      "outputs": []
    },
    {
      "cell_type": "code",
      "source": [
        "# loop for para modificar la lista\n",
        "minusc_mochila= []\n",
        "for objeto in mochila:\n",
        "  minusc_mochila.append(objeto.lower())  # .lower() convierte a minuscula"
      ],
      "metadata": {
        "id": "vsP2eEhX5qCr"
      },
      "execution_count": null,
      "outputs": []
    },
    {
      "cell_type": "code",
      "source": [
        "minusc_mochila"
      ],
      "metadata": {
        "id": "XlxUZtjt5857"
      },
      "execution_count": null,
      "outputs": []
    },
    {
      "cell_type": "markdown",
      "source": [
        "¡La list comprehension proporciona una forma concisa de crear listas y es una de las ventajas de Python!"
      ],
      "metadata": {
        "id": "F-AuzmN36Dqz"
      }
    },
    {
      "cell_type": "code",
      "source": [
        "l = [x**2 for x in range(10)]\n",
        "l"
      ],
      "metadata": {
        "colab": {
          "base_uri": "https://localhost:8080/"
        },
        "id": "9RLctL1G6NRr",
        "outputId": "c396b067-337b-4f57-a864-321a973839b3"
      },
      "execution_count": null,
      "outputs": [
        {
          "output_type": "execute_result",
          "data": {
            "text/plain": [
              "[0, 1, 4, 9, 16, 25, 36, 49, 64, 81]"
            ]
          },
          "metadata": {},
          "execution_count": 96
        }
      ]
    },
    {
      "cell_type": "code",
      "source": [
        "m = []\n",
        "for x in range(10):\n",
        "    m.append(x**2)"
      ],
      "metadata": {
        "id": "it2f_2Yw6Qcc"
      },
      "execution_count": null,
      "outputs": []
    },
    {
      "cell_type": "code",
      "source": [
        "m"
      ],
      "metadata": {
        "colab": {
          "base_uri": "https://localhost:8080/"
        },
        "id": "aee8N0006RKL",
        "outputId": "57e7b841-1605-438a-b6d8-dd00615c16ec"
      },
      "execution_count": null,
      "outputs": [
        {
          "output_type": "execute_result",
          "data": {
            "text/plain": [
              "[0, 1, 4, 9, 16, 25, 36, 49, 64, 81]"
            ]
          },
          "metadata": {},
          "execution_count": 89
        }
      ]
    },
    {
      "cell_type": "code",
      "source": [
        "[x for x in l if x%2 == 0]  # filtramos !"
      ],
      "metadata": {
        "colab": {
          "base_uri": "https://localhost:8080/"
        },
        "id": "HbjT9Irp6WTT",
        "outputId": "674e8e6c-e483-4d25-8f57-f524af6252ea"
      },
      "execution_count": null,
      "outputs": [
        {
          "output_type": "execute_result",
          "data": {
            "text/plain": [
              "[0, 4, 16, 36, 64]"
            ]
          },
          "metadata": {},
          "execution_count": 92
        }
      ]
    },
    {
      "cell_type": "code",
      "source": [
        "g=[]\n",
        "for x in l:\n",
        "    if x%2==0:\n",
        "        g.append(x)"
      ],
      "metadata": {
        "id": "wXbMttC56toj"
      },
      "execution_count": null,
      "outputs": []
    },
    {
      "cell_type": "code",
      "source": [
        "g"
      ],
      "metadata": {
        "colab": {
          "base_uri": "https://localhost:8080/"
        },
        "id": "oBcxi4tw7D_T",
        "outputId": "6fdbebaa-21d0-4be9-89a3-c146df664b67"
      },
      "execution_count": null,
      "outputs": [
        {
          "output_type": "execute_result",
          "data": {
            "text/plain": [
              "[0, 4, 16, 36, 64]"
            ]
          },
          "metadata": {},
          "execution_count": 99
        }
      ]
    },
    {
      "cell_type": "markdown",
      "source": [
        "La estructura general es:\n",
        "\n",
        "```python\n",
        "[ expression for item in list if conditional ]\n",
        "```\n",
        "\n",
        "Equivalente a:\n",
        "\n",
        "```python\n",
        "for item in list:\n",
        "    if conditional:\n",
        "        expression\n",
        "```\n",
        "\n",
        "list comprehensions son más rápidas que los loops `for`:"
      ],
      "metadata": {
        "id": "YvafaCwt7HGj"
      }
    },
    {
      "cell_type": "code",
      "source": [
        "%%timeit\n",
        "\n",
        "l = []\n",
        "for i in range(100000):\n",
        "    l.append(i)"
      ],
      "metadata": {
        "id": "t2P4Vhgj7T6Y"
      },
      "execution_count": null,
      "outputs": []
    },
    {
      "cell_type": "code",
      "source": [
        "%%timeit\n",
        "\n",
        "l = [i for i in range(100000)]"
      ],
      "metadata": {
        "id": "EtG5e6-G7U_M"
      },
      "execution_count": null,
      "outputs": []
    },
    {
      "cell_type": "markdown",
      "source": [
        "### Otros usos de las comprehensions\n",
        "\n",
        "Esta funcionalidad se puede aplicar al resto de colecciones, además de las listas.\n",
        "\n",
        "#### `Set` comprehensions\n",
        "\n",
        "Expresiones entre `{ }`.\n",
        "\n",
        "```python\n",
        "{ expression for item in list if conditional }\n",
        "```"
      ],
      "metadata": {
        "id": "ftA6BBGJ7Xxj"
      }
    },
    {
      "cell_type": "code",
      "source": [
        "{x.upper() for x in mochila}"
      ],
      "metadata": {
        "colab": {
          "base_uri": "https://localhost:8080/"
        },
        "id": "jwEjFIfP8vyM",
        "outputId": "5e060fa9-fab8-4b93-eec9-df0e3c55958c"
      },
      "execution_count": null,
      "outputs": [
        {
          "output_type": "execute_result",
          "data": {
            "text/plain": [
              "{'CARGADOR', 'CARPETA', 'HOJAS', 'LAPIZ', 'PC'}"
            ]
          },
          "metadata": {},
          "execution_count": 101
        }
      ]
    },
    {
      "cell_type": "markdown",
      "source": [
        "#### `Dict` comprehensions\n",
        "\n",
        "Expresiones entre `{ }`.\n",
        "\n",
        "```python\n",
        "{ key:value for v1, v2 in list_of_tuples }\n",
        "```\n",
        "\n",
        "*Truco*: Diccionario inverso- cambiando key:value por value:key"
      ],
      "metadata": {
        "id": "CeGPlEEF84Hb"
      }
    },
    {
      "cell_type": "code",
      "source": [
        "d = {'pc':1000, 'carpeta':10, 'lapiz':0.6, 'cargador':25, 'hojas':5}\n",
        "d"
      ],
      "metadata": {
        "colab": {
          "base_uri": "https://localhost:8080/"
        },
        "id": "Ln1-XQj283Z8",
        "outputId": "f3cfc4a9-a553-44aa-e03e-8ff55b074377"
      },
      "execution_count": null,
      "outputs": [
        {
          "output_type": "execute_result",
          "data": {
            "text/plain": [
              "{'pc': 1000, 'carpeta': 10, 'lapiz': 0.6, 'cargador': 25, 'hojas': 5}"
            ]
          },
          "metadata": {},
          "execution_count": 104
        }
      ]
    },
    {
      "cell_type": "code",
      "source": [
        "{v:k for k, v in d.items()}"
      ],
      "metadata": {
        "colab": {
          "base_uri": "https://localhost:8080/"
        },
        "id": "SvIGdfP69Nn9",
        "outputId": "e07049e0-1e60-42dd-d077-29b72a9f8ffe"
      },
      "execution_count": null,
      "outputs": [
        {
          "output_type": "execute_result",
          "data": {
            "text/plain": [
              "{1000: 'pc', 10: 'carpeta', 0.6: 'lapiz', 25: 'cargador', 5: 'hojas'}"
            ]
          },
          "metadata": {},
          "execution_count": 103
        }
      ]
    },
    {
      "cell_type": "markdown",
      "source": [
        "Filtramos el diccionario para obtener uno nuevo con los objetos más baratos (<=10€)"
      ],
      "metadata": {
        "id": "szclagUm9UtD"
      }
    },
    {
      "cell_type": "code",
      "source": [
        "{k:v for k, v in d.items() if v <= 10}"
      ],
      "metadata": {
        "colab": {
          "base_uri": "https://localhost:8080/"
        },
        "id": "xEscfrSX9elN",
        "outputId": "8fae5368-7d10-4f9d-fdf2-7109f485cfa9"
      },
      "execution_count": null,
      "outputs": [
        {
          "output_type": "execute_result",
          "data": {
            "text/plain": [
              "{'carpeta': 10, 'lapiz': 0.6, 'hojas': 5}"
            ]
          },
          "metadata": {},
          "execution_count": 106
        }
      ]
    },
    {
      "cell_type": "markdown",
      "source": [
        "#EJERCICIOS"
      ],
      "metadata": {
        "id": "_dcS4tSq_80L"
      }
    },
    {
      "cell_type": "markdown",
      "source": [
        "+ Qué pasa si hacemos x = y = 5?"
      ],
      "metadata": {
        "id": "mKfod7Cd_8qL"
      }
    },
    {
      "cell_type": "markdown",
      "source": [
        "+ ¿Cómo puedo obtener la longitud de una cadena?"
      ],
      "metadata": {
        "id": "P2xW_UYj__LL"
      }
    },
    {
      "cell_type": "markdown",
      "source": [
        "+ Escribe una función que devuelva la raiz cuadrada de un número en caso de que sea par."
      ],
      "metadata": {
        "id": "3FuIYaexAF3b"
      }
    },
    {
      "cell_type": "markdown",
      "source": [
        "+ Obtén el resultado de aplicar la última función a un rango de número de 0 a 20. (_pista: usa `range()` y un loop `for`_)."
      ],
      "metadata": {
        "id": "dlTGHDThAEaF"
      }
    },
    {
      "cell_type": "markdown",
      "source": [
        "+ Escriba una función que tome una cadena como parámetro e imprima la cadena con espacios."
      ],
      "metadata": {
        "id": "-QfxLK8gALaz"
      }
    },
    {
      "cell_type": "markdown",
      "source": [
        "## Listas\n",
        "\n",
        "+ Crea una lista de tres elementos cada uno\n",
        "+ Devuelve el contenido y la longitud de la primera\n",
        "+ Haz una lista `l` con elementos del 1 al 100\n",
        "+ Selecciona los primeros 10 elementos\n",
        "+ Suma 3 a cada elemento\n",
        "+ Eleva al cuadrado a los elementos impares y nombra el resultado como `l_sq`\n",
        "+ Divide cada elemento por 5 si es divisible por 5 y nombra el resultado como `l_div`\n",
        "+ Haz una nueva lista que contenga los diferentes elementos de `l_sq` y `l_div`"
      ],
      "metadata": {
        "id": "1zrlIInhAPcL"
      }
    }
  ]
}